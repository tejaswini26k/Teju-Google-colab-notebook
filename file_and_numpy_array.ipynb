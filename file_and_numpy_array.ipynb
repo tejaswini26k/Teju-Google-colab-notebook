{
  "nbformat": 4,
  "nbformat_minor": 0,
  "metadata": {
    "colab": {
      "provenance": [],
      "mount_file_id": "1ebSmQNXKJ9bPjxWLJjEDrgju6_r32m46",
      "authorship_tag": "ABX9TyPGrbsQwwtj93Ff0HPRyhwe",
      "include_colab_link": true
    },
    "kernelspec": {
      "name": "python3",
      "display_name": "Python 3"
    },
    "language_info": {
      "name": "python"
    }
  },
  "cells": [
    {
      "cell_type": "markdown",
      "metadata": {
        "id": "view-in-github",
        "colab_type": "text"
      },
      "source": [
        "<a href=\"https://colab.research.google.com/github/tejaswini26k/Teju-Google-colab-notebook/blob/main/file_and_numpy_array.ipynb\" target=\"_parent\"><img src=\"https://colab.research.google.com/assets/colab-badge.svg\" alt=\"Open In Colab\"/></a>"
      ]
    },
    {
      "cell_type": "code",
      "execution_count": null,
      "metadata": {
        "colab": {
          "base_uri": "https://localhost:8080/"
        },
        "id": "oerOk3Sgw4sA",
        "outputId": "fa612899-255c-4611-ea20-1ef986ed6fb7"
      },
      "outputs": [
        {
          "output_type": "stream",
          "name": "stdout",
          "text": [
            "<class 'tuple'>\n"
          ]
        }
      ],
      "source": [
        "product_details=[]\n",
        "supplier_details=dict()\n",
        "customer_details=[]\n",
        "gender={}\n",
        "\n",
        "fp1=open(\"Sales.csv\",\"r\")\n",
        "data=fp1.readline()\n",
        "\n",
        "while(True):\n",
        "\n",
        "   data=fp1.readline()\n",
        "   if not data:\n",
        "       break;\n",
        "   #print(data)\n",
        "   #data=data.replace(\"\\n\",\"\")\n",
        "   temp=data.split(\",\")\n",
        "   product_details.append(temp[1])\n",
        "   customer_details.append(temp[3])\n",
        "   supplier_details.update({temp[0]:temp[2]})\n",
        "   gender.update({temp[3]:temp[4]})\n",
        "\n",
        "fp1.close()\n",
        "\n",
        "customer_details=tuple(customer_details)\n",
        "print(type(customer_details))\n",
        ""
      ]
    },
    {
      "cell_type": "code",
      "source": [],
      "metadata": {
        "id": "rwiKOYjY5h4G"
      },
      "execution_count": null,
      "outputs": []
    },
    {
      "cell_type": "code",
      "source": [
        "print(\"\\nproduct_details\\n\",product_details,end=\"\")\n",
        "print(\"\\ncustomer_details\\n\",customer_details,end=\"\")\n",
        "print(\"\\nsupplier_details\\n\",supplier_details,end=\"\")\n",
        "print(\"\\ngender_details\\n\",gender,end=\"\")"
      ],
      "metadata": {
        "id": "QlbCtQMSxVJI",
        "colab": {
          "base_uri": "https://localhost:8080/"
        },
        "outputId": "0dfecd16-00fb-4cf9-efd4-40bb6822ee8b"
      },
      "execution_count": null,
      "outputs": [
        {
          "output_type": "stream",
          "name": "stdout",
          "text": [
            "\n",
            "product_details\n",
            " ['Lenovo Laptop', 'Samsung M31', 'Realmi 10pro', 'Oppo F21', 'Lenovo Laptop', 'Samsung M31', '\"LG TV 32\"\"\"', 'Oppo F21', 'Lenovo Laptop', 'Samsung M31', '\"LG TV 32\"\"\"', 'Lenovo Laptop', 'Samsung M31', 'Realmi 10pro', 'Lenovo Laptop', 'Oppo F21', '\"LG TV 32\"\"\"', 'Lenovo Laptop', 'Samsung M31', '\"LG TV 32\"\"\"']\n",
            "customer_details\n",
            " ('Kaustubh Mahajan', 'Siddhi Kiwale', 'Sanket Kandalkar', 'Yash Mali', 'Yash Bagul', 'Siddhi Kiwale', 'Sanket Kandalkar', 'Kaustubh Mahajan', 'Yash Mali', 'Siddhi Kiwale', 'Sanket Kandalkar', 'Kaustubh Mahajan', 'Yash Mali', 'Siddhi Kiwale', 'Tanuja Mali', 'Kaustubh Mahajan', 'Sanket Kandalkar', 'Siddhi Kiwale', 'Kaustubh Mahajan', 'Yash Mali')\n",
            "supplier_details\n",
            " {'P00001': 'Raka Ele.', 'P00002': 'Vijay Sales', 'P00003': 'Gada Ele.', 'P00004': 'Surya Ele.', 'P00005': 'Raka Ele.', 'P00006': 'Gada Ele.', 'P00007': 'Vijay Sales', 'P00008': 'Surya Ele.', 'P00009': 'Raka Ele.', 'P00010': 'Gada Ele.', 'P00011': 'Surya Ele.', 'P00012': 'Raka Ele.', 'P00013': 'Surya Ele.', 'P00014': 'Raka Ele.', 'P00015': 'Gada Ele.', 'P00016': 'Vijay Sales', 'P00017': 'Deshmukh sales', 'P00018': 'Raka Ele.', 'P00019': 'Deshmukh sales', 'P00020': 'Gada Ele.'}\n",
            "gender_details\n",
            " {'Kaustubh Mahajan': 'Male\\n', 'Siddhi Kiwale': 'Female\\n', 'Sanket Kandalkar': 'Male\\n', 'Yash Mali': 'Male', 'Yash Bagul': 'Male\\n', 'Tanuja Mali': 'Female\\n'}"
          ]
        }
      ]
    },
    {
      "cell_type": "code",
      "source": [
        "frequency={}#{lenovo laptop:3}\n",
        "#iteracting over the list\n",
        "for item in product_details:\n",
        "  #checking  the element in dictionary\n",
        "  if item in frequency:\n",
        "    #incrementing the counter\n",
        "    frequency[item]+=1\n",
        "  else:\n",
        "      #initialising the count\n",
        "      frequency[item]=1\n",
        "#printing the frequency\n",
        "print(frequency)\n",
        "newlist=sorted(frequency.items(),key=lambda x:x[1],reverse=True)\n",
        "sortdict=dict(newlist)\n",
        "print(sortdict)\n",
        "print(\"the most popular product for sales\",list(sortdict.keys())[0],\"sold\",list(sortdict.values())[0],\"times\")"
      ],
      "metadata": {
        "id": "vyc5yRlvxan9",
        "colab": {
          "base_uri": "https://localhost:8080/"
        },
        "outputId": "8ee71578-bea0-46ae-9805-ac7c70e5ff45"
      },
      "execution_count": null,
      "outputs": [
        {
          "output_type": "stream",
          "name": "stdout",
          "text": [
            "{'Lenovo Laptop': 6, 'Samsung M31': 5, 'Realmi 10pro': 2, 'Oppo F21': 3, '\"LG TV 32\"\"\"': 4}\n",
            "{'Lenovo Laptop': 6, 'Samsung M31': 5, '\"LG TV 32\"\"\"': 4, 'Oppo F21': 3, 'Realmi 10pro': 2}\n",
            "the most popular product for sales Lenovo Laptop sold 6 times\n"
          ]
        }
      ]
    },
    {
      "cell_type": "code",
      "source": [
        "frequency={}\n",
        "#iteracting over the list\n",
        "for item in supplier_details.values():\n",
        "  #checking  the element in dictionary\n",
        "  if item in frequency:\n",
        "    #incrementing the counter\n",
        "    frequency[item]+=1\n",
        "  else:\n",
        "      #initialising the count\n",
        "      frequency[item]=1\n",
        "#printing the frequency\n",
        "print(frequency)\n",
        "newlist=sorted(frequency.items(),key=lambda x:x[1],reverse=True)\n",
        "sortdict=dict(newlist)\n",
        "print(sortdict)\n",
        "print(\"the most popular supplier for sales\",list(sortdict.keys())[0],\"sold\",list(sortdict.values())[0],\"items\")"
      ],
      "metadata": {
        "id": "JScpvpaTxe92",
        "colab": {
          "base_uri": "https://localhost:8080/"
        },
        "outputId": "6da6bd55-87c1-418d-c187-38e1a61a7964"
      },
      "execution_count": null,
      "outputs": [
        {
          "output_type": "stream",
          "name": "stdout",
          "text": [
            "{'Raka Ele.': 6, 'Vijay Sales': 3, 'Gada Ele.': 5, 'Surya Ele.': 4, 'Deshmukh sales': 2}\n",
            "{'Raka Ele.': 6, 'Gada Ele.': 5, 'Surya Ele.': 4, 'Vijay Sales': 3, 'Deshmukh sales': 2}\n",
            "the most popular supplier for sales Raka Ele. sold 6 items\n"
          ]
        }
      ]
    },
    {
      "cell_type": "code",
      "source": [
        "frequency={}\n",
        "#iteracting over the list\n",
        "for item in customer_details:\n",
        "  #checking  the element in dictionary\n",
        "  if item in frequency:\n",
        "    #incrementing the counter\n",
        "    frequency[item]+=1\n",
        "  else:\n",
        "      #initialising the count\n",
        "      frequency[item]=1\n",
        "#printing the frequency\n",
        "print(frequency)\n",
        "newlist=sorted(frequency.items(),key=lambda x:x[1],reverse=True)\n",
        "sortdict=dict(newlist)\n",
        "print(sortdict)\n",
        "print(\"the most popular customer for sales\",list(sortdict.keys())[0],\"sold\",list(sortdict.values())[0],\"items\")"
      ],
      "metadata": {
        "id": "l0u_U0bOxmqW",
        "colab": {
          "base_uri": "https://localhost:8080/",
          "height": 235
        },
        "outputId": "a0e6d9fa-36dc-49d7-ffde-f04afcba9357"
      },
      "execution_count": null,
      "outputs": [
        {
          "output_type": "error",
          "ename": "NameError",
          "evalue": "ignored",
          "traceback": [
            "\u001b[0;31m---------------------------------------------------------------------------\u001b[0m",
            "\u001b[0;31mNameError\u001b[0m                                 Traceback (most recent call last)",
            "\u001b[0;32m<ipython-input-11-d17ded3d3349>\u001b[0m in \u001b[0;36m<cell line: 3>\u001b[0;34m()\u001b[0m\n\u001b[1;32m      1\u001b[0m \u001b[0mfrequency\u001b[0m\u001b[0;34m=\u001b[0m\u001b[0;34m{\u001b[0m\u001b[0;34m}\u001b[0m\u001b[0;34m\u001b[0m\u001b[0;34m\u001b[0m\u001b[0m\n\u001b[1;32m      2\u001b[0m \u001b[0;31m#iteracting over the list\u001b[0m\u001b[0;34m\u001b[0m\u001b[0;34m\u001b[0m\u001b[0m\n\u001b[0;32m----> 3\u001b[0;31m \u001b[0mfp1\u001b[0m\u001b[0;34m.\u001b[0m\u001b[0mopen\u001b[0m\u001b[0;34m(\u001b[0m\u001b[0;34m\"/content/sales.csv\"\u001b[0m\u001b[0;34m,\u001b[0m\u001b[0;34m\"r\"\u001b[0m\u001b[0;34m)\u001b[0m\u001b[0;34m\u001b[0m\u001b[0;34m\u001b[0m\u001b[0m\n\u001b[0m\u001b[1;32m      4\u001b[0m \u001b[0;32mfor\u001b[0m \u001b[0mitem\u001b[0m \u001b[0;32min\u001b[0m \u001b[0mcustomer_details\u001b[0m\u001b[0;34m:\u001b[0m\u001b[0;34m\u001b[0m\u001b[0;34m\u001b[0m\u001b[0m\n\u001b[1;32m      5\u001b[0m   \u001b[0;31m#checking  the element in dictionary\u001b[0m\u001b[0;34m\u001b[0m\u001b[0;34m\u001b[0m\u001b[0m\n",
            "\u001b[0;31mNameError\u001b[0m: name 'fp1' is not defined"
          ]
        }
      ]
    },
    {
      "cell_type": "markdown",
      "source": [],
      "metadata": {
        "id": "s-HVvCJ8_22Q"
      }
    },
    {
      "cell_type": "code",
      "source": [
        "frequency={}\n",
        "#iteracting over the list\n",
        "for item in gender.values():\n",
        "  #checking  the element in dictionary\n",
        "  if item in frequency:\n",
        "    #incrementing the counter\n",
        "    frequency[item]+=1\n",
        "  else:\n",
        "      #initialising the count\n",
        "      frequency[item]=1\n",
        "#printing the frequency\n",
        "print(frequency)\n",
        "newlist=sorted(frequency.items(),key=lambda x:x[1],reverse=True)\n",
        "sortdict=dict(newlist)\n",
        "print(sortdict)\n",
        "print(\"the most popular customer for sales\",list(sortdict.keys())[0],\"sold\",list(sortdict.values())[0],\"items\")"
      ],
      "metadata": {
        "colab": {
          "base_uri": "https://localhost:8080/",
          "height": 235
        },
        "id": "XuTfRp_54Pgz",
        "outputId": "3205177b-1ebe-4dac-dbf1-5e9972461789"
      },
      "execution_count": null,
      "outputs": [
        {
          "output_type": "error",
          "ename": "NameError",
          "evalue": "ignored",
          "traceback": [
            "\u001b[0;31m---------------------------------------------------------------------------\u001b[0m",
            "\u001b[0;31mNameError\u001b[0m                                 Traceback (most recent call last)",
            "\u001b[0;32m<ipython-input-2-d29644c06810>\u001b[0m in \u001b[0;36m<cell line: 3>\u001b[0;34m()\u001b[0m\n\u001b[1;32m      1\u001b[0m \u001b[0mfrequency\u001b[0m\u001b[0;34m=\u001b[0m\u001b[0;34m{\u001b[0m\u001b[0;34m}\u001b[0m\u001b[0;34m\u001b[0m\u001b[0;34m\u001b[0m\u001b[0m\n\u001b[1;32m      2\u001b[0m \u001b[0;31m#iteracting over the list\u001b[0m\u001b[0;34m\u001b[0m\u001b[0;34m\u001b[0m\u001b[0m\n\u001b[0;32m----> 3\u001b[0;31m \u001b[0;32mfor\u001b[0m \u001b[0mitem\u001b[0m \u001b[0;32min\u001b[0m \u001b[0mgender\u001b[0m\u001b[0;34m.\u001b[0m\u001b[0mvalues\u001b[0m\u001b[0;34m(\u001b[0m\u001b[0;34m)\u001b[0m\u001b[0;34m:\u001b[0m\u001b[0;34m\u001b[0m\u001b[0;34m\u001b[0m\u001b[0m\n\u001b[0m\u001b[1;32m      4\u001b[0m   \u001b[0;31m#checking  the element in dictionary\u001b[0m\u001b[0;34m\u001b[0m\u001b[0;34m\u001b[0m\u001b[0m\n\u001b[1;32m      5\u001b[0m   \u001b[0;32mif\u001b[0m \u001b[0mitem\u001b[0m \u001b[0;32min\u001b[0m \u001b[0mfrequency\u001b[0m\u001b[0;34m:\u001b[0m\u001b[0;34m\u001b[0m\u001b[0;34m\u001b[0m\u001b[0m\n",
            "\u001b[0;31mNameError\u001b[0m: name 'gender' is not defined"
          ]
        }
      ]
    },
    {
      "cell_type": "code",
      "source": [
        "frequency={}\n",
        "#iteracting over the list\n",
        "for item in Gender.values():\n",
        "  #checking  the element in dictionary\n",
        "  if item in frequency:\n",
        "    #incrementing the counter\n",
        "    frequency[item]+=1\n",
        "  else:\n",
        "      #initialising the count\n",
        "      frequency[item]=1\n",
        "#printing the frequency\n",
        "print(frequency)\n",
        "newlist=sorted(frequency.items(),key=lambda x:x[1],reverse=True)\n",
        "sortdict=dict(newlist)\n",
        "print(sortdict)\n",
        "print(\"the number of customer who are female\",list(sortdict.keys())[0],\"sold\",list(sortdict.values())[0],\"times\")"
      ],
      "metadata": {
        "colab": {
          "base_uri": "https://localhost:8080/",
          "height": 235
        },
        "id": "IcLm6t2zB1Yb",
        "outputId": "67bd558b-5492-4760-8085-7261ef3c10a6"
      },
      "execution_count": null,
      "outputs": [
        {
          "output_type": "error",
          "ename": "NameError",
          "evalue": "ignored",
          "traceback": [
            "\u001b[0;31m---------------------------------------------------------------------------\u001b[0m",
            "\u001b[0;31mNameError\u001b[0m                                 Traceback (most recent call last)",
            "\u001b[0;32m<ipython-input-8-df3f55be6dea>\u001b[0m in \u001b[0;36m<cell line: 3>\u001b[0;34m()\u001b[0m\n\u001b[1;32m      1\u001b[0m \u001b[0mfrequency\u001b[0m\u001b[0;34m=\u001b[0m\u001b[0;34m{\u001b[0m\u001b[0;34m}\u001b[0m\u001b[0;34m\u001b[0m\u001b[0;34m\u001b[0m\u001b[0m\n\u001b[1;32m      2\u001b[0m \u001b[0;31m#iteracting over the list\u001b[0m\u001b[0;34m\u001b[0m\u001b[0;34m\u001b[0m\u001b[0m\n\u001b[0;32m----> 3\u001b[0;31m \u001b[0;32mfor\u001b[0m \u001b[0mitem\u001b[0m \u001b[0;32min\u001b[0m \u001b[0mGender\u001b[0m\u001b[0;34m.\u001b[0m\u001b[0mvalues\u001b[0m\u001b[0;34m(\u001b[0m\u001b[0;34m)\u001b[0m\u001b[0;34m:\u001b[0m\u001b[0;34m\u001b[0m\u001b[0;34m\u001b[0m\u001b[0m\n\u001b[0m\u001b[1;32m      4\u001b[0m   \u001b[0;31m#checking  the element in dictionary\u001b[0m\u001b[0;34m\u001b[0m\u001b[0;34m\u001b[0m\u001b[0m\n\u001b[1;32m      5\u001b[0m   \u001b[0;32mif\u001b[0m \u001b[0mitem\u001b[0m \u001b[0;32min\u001b[0m \u001b[0mfrequency\u001b[0m\u001b[0;34m:\u001b[0m\u001b[0;34m\u001b[0m\u001b[0;34m\u001b[0m\u001b[0m\n",
            "\u001b[0;31mNameError\u001b[0m: name 'Gender' is not defined"
          ]
        }
      ]
    },
    {
      "cell_type": "code",
      "source": [],
      "metadata": {
        "id": "ftfw94-8Emp6"
      },
      "execution_count": null,
      "outputs": []
    },
    {
      "cell_type": "code",
      "source": [],
      "metadata": {
        "id": "lMWL88H4EmxT"
      },
      "execution_count": null,
      "outputs": []
    },
    {
      "cell_type": "code",
      "source": [
        "#find the number of females customers\n",
        "#((not to cosider the collection module))\n",
        "\n",
        "from collections import counter\n",
        "counter=dict(counter(customer_details))\n",
        "names=list(counter.keys())\n",
        "print(names)\n",
        "male=0\n",
        "female=0\n",
        "\n",
        "for name in names:\n",
        "  if gender[name]==\"male\\n\":\n",
        "    male=male+1\n",
        "  if gender[name]==\"female\\n\":\n",
        "    female+=1\n",
        "print(\"total no. of male=\",male)\n",
        "print(\"toatal no. of female=\",female)"
      ],
      "metadata": {
        "colab": {
          "base_uri": "https://localhost:8080/",
          "height": 373
        },
        "id": "aPiXKfKC7OFl",
        "outputId": "72326bf0-95ca-4db8-fc58-4e37d0fcba60"
      },
      "execution_count": null,
      "outputs": [
        {
          "output_type": "error",
          "ename": "ImportError",
          "evalue": "ignored",
          "traceback": [
            "\u001b[0;31m---------------------------------------------------------------------------\u001b[0m",
            "\u001b[0;31mImportError\u001b[0m                               Traceback (most recent call last)",
            "\u001b[0;32m<ipython-input-3-155c4b689dfd>\u001b[0m in \u001b[0;36m<cell line: 4>\u001b[0;34m()\u001b[0m\n\u001b[1;32m      2\u001b[0m \u001b[0;31m#((not to cosider the collection module))\u001b[0m\u001b[0;34m\u001b[0m\u001b[0;34m\u001b[0m\u001b[0m\n\u001b[1;32m      3\u001b[0m \u001b[0;34m\u001b[0m\u001b[0m\n\u001b[0;32m----> 4\u001b[0;31m \u001b[0;32mfrom\u001b[0m \u001b[0mcollections\u001b[0m \u001b[0;32mimport\u001b[0m \u001b[0mcounter\u001b[0m\u001b[0;34m\u001b[0m\u001b[0;34m\u001b[0m\u001b[0m\n\u001b[0m\u001b[1;32m      5\u001b[0m \u001b[0mcounter\u001b[0m\u001b[0;34m=\u001b[0m\u001b[0mdict\u001b[0m\u001b[0;34m(\u001b[0m\u001b[0mcounter\u001b[0m\u001b[0;34m(\u001b[0m\u001b[0mcustomer_details\u001b[0m\u001b[0;34m)\u001b[0m\u001b[0;34m)\u001b[0m\u001b[0;34m\u001b[0m\u001b[0;34m\u001b[0m\u001b[0m\n\u001b[1;32m      6\u001b[0m \u001b[0mnames\u001b[0m\u001b[0;34m=\u001b[0m\u001b[0mlist\u001b[0m\u001b[0;34m(\u001b[0m\u001b[0mcounter\u001b[0m\u001b[0;34m.\u001b[0m\u001b[0mkeys\u001b[0m\u001b[0;34m(\u001b[0m\u001b[0;34m)\u001b[0m\u001b[0;34m)\u001b[0m\u001b[0;34m\u001b[0m\u001b[0;34m\u001b[0m\u001b[0m\n",
            "\u001b[0;31mImportError\u001b[0m: cannot import name 'counter' from 'collections' (/usr/lib/python3.10/collections/__init__.py)",
            "",
            "\u001b[0;31m---------------------------------------------------------------------------\u001b[0;32m\nNOTE: If your import is failing due to a missing package, you can\nmanually install dependencies using either !pip or !apt.\n\nTo view examples of installing some common dependencies, click the\n\"Open Examples\" button below.\n\u001b[0;31m---------------------------------------------------------------------------\u001b[0m\n"
          ],
          "errorDetails": {
            "actions": [
              {
                "action": "open_url",
                "actionText": "Open Examples",
                "url": "/notebooks/snippets/importing_libraries.ipynb"
              }
            ]
          }
        }
      ]
    },
    {
      "cell_type": "code",
      "source": [
        "import numpy as np"
      ],
      "metadata": {
        "id": "wdXdSUZNEn_M"
      },
      "execution_count": null,
      "outputs": []
    },
    {
      "cell_type": "code",
      "source": [
        "array1=np.array([[3,4,5],[5,6,8],[6,9,9]])\n",
        "array1"
      ],
      "metadata": {
        "colab": {
          "base_uri": "https://localhost:8080/"
        },
        "id": "hZRyDYoXE6qy",
        "outputId": "e19c9af0-06b1-4075-b980-9f5eef6c27fc"
      },
      "execution_count": null,
      "outputs": [
        {
          "output_type": "execute_result",
          "data": {
            "text/plain": [
              "array([[3, 4, 5],\n",
              "       [5, 6, 8],\n",
              "       [6, 9, 9]])"
            ]
          },
          "metadata": {},
          "execution_count": 20
        }
      ]
    },
    {
      "cell_type": "code",
      "source": [
        "array2=np.array([[12,34,45],[32,34,67],[12,31,42]])\n",
        "array2"
      ],
      "metadata": {
        "colab": {
          "base_uri": "https://localhost:8080/"
        },
        "id": "QJAw8YM1FdRC",
        "outputId": "f3c12aea-7d3c-47e6-d600-ed0514e1a477"
      },
      "execution_count": null,
      "outputs": [
        {
          "output_type": "execute_result",
          "data": {
            "text/plain": [
              "array([[12, 34, 45],\n",
              "       [32, 34, 67],\n",
              "       [12, 31, 42]])"
            ]
          },
          "metadata": {},
          "execution_count": 21
        }
      ]
    },
    {
      "cell_type": "code",
      "source": [
        "array1+array2"
      ],
      "metadata": {
        "colab": {
          "base_uri": "https://localhost:8080/"
        },
        "id": "iqUcJaPmFvbR",
        "outputId": "3c87b21b-bc21-4393-dc79-3b597a7f7521"
      },
      "execution_count": null,
      "outputs": [
        {
          "output_type": "execute_result",
          "data": {
            "text/plain": [
              "array([[15, 38, 50],\n",
              "       [37, 40, 75],\n",
              "       [18, 40, 51]])"
            ]
          },
          "metadata": {},
          "execution_count": 22
        }
      ]
    },
    {
      "cell_type": "code",
      "source": [
        "array2-array1"
      ],
      "metadata": {
        "colab": {
          "base_uri": "https://localhost:8080/"
        },
        "id": "nroXFCghF3eB",
        "outputId": "72be3272-c289-42cd-b21e-e65740b5b85f"
      },
      "execution_count": null,
      "outputs": [
        {
          "output_type": "execute_result",
          "data": {
            "text/plain": [
              "array([[ 9, 30, 40],\n",
              "       [27, 28, 59],\n",
              "       [ 6, 22, 33]])"
            ]
          },
          "metadata": {},
          "execution_count": 23
        }
      ]
    },
    {
      "cell_type": "code",
      "source": [
        "import numpy as np\n",
        "\n",
        "arr = np.array([[[1, 2, 3], [4, 5, 6]], [[7, 8, 9], [10, 11, 12]]])\n",
        "\n",
        "print(arr[0, 1, 2])"
      ],
      "metadata": {
        "colab": {
          "base_uri": "https://localhost:8080/"
        },
        "id": "oeeBjF185jk7",
        "outputId": "376ae584-69b6-4bb5-8d5e-91cdd97e539f"
      },
      "execution_count": null,
      "outputs": [
        {
          "output_type": "stream",
          "name": "stdout",
          "text": [
            "6\n"
          ]
        }
      ]
    },
    {
      "cell_type": "code",
      "source": [
        "import numpy as np\n",
        "\n",
        "arr = np.array([1, 2, 3, 4, 5, 6, 7])\n",
        "\n",
        "print(arr[1:5])"
      ],
      "metadata": {
        "colab": {
          "base_uri": "https://localhost:8080/"
        },
        "id": "AK3flOvPB3PN",
        "outputId": "e77979be-1474-4b13-f513-9ac032a75d22"
      },
      "execution_count": null,
      "outputs": [
        {
          "output_type": "stream",
          "name": "stdout",
          "text": [
            "[2 3 4 5]\n"
          ]
        }
      ]
    },
    {
      "cell_type": "code",
      "source": [
        "import numpy as np\n",
        "\n",
        "arr = np.array([1, 2, 3, 4, 5, 6, 7])\n",
        "\n",
        "print(arr[-3:-1])"
      ],
      "metadata": {
        "colab": {
          "base_uri": "https://localhost:8080/"
        },
        "id": "YT2S9xJeB4nq",
        "outputId": "1eefb203-f451-4c9e-812e-f28a23675999"
      },
      "execution_count": null,
      "outputs": [
        {
          "output_type": "stream",
          "name": "stdout",
          "text": [
            "[5 6]\n"
          ]
        }
      ]
    },
    {
      "cell_type": "code",
      "source": [
        "import numpy as np\n",
        "\n",
        "arr = np.array([[1, 2, 3, 4, 5], [6, 7, 8, 9, 10]])\n",
        "\n",
        "print(arr[0:2, 2])"
      ],
      "metadata": {
        "colab": {
          "base_uri": "https://localhost:8080/"
        },
        "id": "vvrymYAUCBbZ",
        "outputId": "af6c7d99-2392-4ae5-fef0-2877b9517f92"
      },
      "execution_count": null,
      "outputs": [
        {
          "output_type": "stream",
          "name": "stdout",
          "text": [
            "[3 8]\n"
          ]
        }
      ]
    },
    {
      "cell_type": "code",
      "source": [
        "import numpy as np\n",
        "a=np.array([1,2,3])\n",
        "b=np.array([2,3,4])\n",
        "c=a*b\n",
        "print(c)"
      ],
      "metadata": {
        "colab": {
          "base_uri": "https://localhost:8080/"
        },
        "id": "bYEDm9MsGxeR",
        "outputId": "a429e5e8-3086-42b3-9f9d-1522147b2840"
      },
      "execution_count": null,
      "outputs": [
        {
          "output_type": "stream",
          "name": "stdout",
          "text": [
            "[ 2  6 12]\n"
          ]
        }
      ]
    },
    {
      "cell_type": "code",
      "source": [
        "import numpy as np\n",
        "a=np.array([1,2,3])\n",
        "b=np.array([2,3,4])\n",
        "c=a/b\n",
        "print(c)"
      ],
      "metadata": {
        "colab": {
          "base_uri": "https://localhost:8080/"
        },
        "id": "VjzwzoqyHkVL",
        "outputId": "b03b9874-925d-4f7e-c8e9-10be074f0126"
      },
      "execution_count": null,
      "outputs": [
        {
          "output_type": "stream",
          "name": "stdout",
          "text": [
            "[0.5        0.66666667 0.75      ]\n"
          ]
        }
      ]
    },
    {
      "cell_type": "code",
      "source": [
        "import numpy as np\n",
        "a=np.array([1,2,3])\n",
        "mean_a=np.mean(a)\n",
        "print(mean_a)"
      ],
      "metadata": {
        "colab": {
          "base_uri": "https://localhost:8080/"
        },
        "id": "zqKfUBffHurp",
        "outputId": "5fae68ee-88be-4ca6-9201-e298ffa61a4d"
      },
      "execution_count": null,
      "outputs": [
        {
          "output_type": "stream",
          "name": "stdout",
          "text": [
            "2.0\n"
          ]
        }
      ]
    },
    {
      "cell_type": "code",
      "source": [
        "import numpy as np\n",
        "a=np.array([1,2,3])\n",
        "b=a.copy()\n",
        "print(b)"
      ],
      "metadata": {
        "colab": {
          "base_uri": "https://localhost:8080/"
        },
        "id": "KYbjR8ECIGDJ",
        "outputId": "d43d8996-d407-46fc-bab9-ad131ce0ed87"
      },
      "execution_count": null,
      "outputs": [
        {
          "output_type": "stream",
          "name": "stdout",
          "text": [
            "[1 2 3]\n"
          ]
        }
      ]
    },
    {
      "cell_type": "code",
      "source": [
        "b[2]=4\n",
        "print(a)\n",
        "print(b)"
      ],
      "metadata": {
        "colab": {
          "base_uri": "https://localhost:8080/"
        },
        "id": "cdaLdHKVJb7o",
        "outputId": "3e86f095-3f5e-4377-a9eb-27f5d70ca447"
      },
      "execution_count": null,
      "outputs": [
        {
          "output_type": "stream",
          "name": "stdout",
          "text": [
            "[1 2 3]\n",
            "[1 2 4]\n"
          ]
        }
      ]
    },
    {
      "cell_type": "code",
      "source": [
        "import numpy as np\n",
        "a=np.array([1,2,3])\n",
        "b=a.view()\n",
        "b[1]=5\n",
        "print(a)\n",
        "print(b)"
      ],
      "metadata": {
        "colab": {
          "base_uri": "https://localhost:8080/"
        },
        "id": "Bmnux-JqKIap",
        "outputId": "a2f2d59f-3acd-4550-c6e2-52c17b7c3217"
      },
      "execution_count": null,
      "outputs": [
        {
          "output_type": "stream",
          "name": "stdout",
          "text": [
            "[1 5 3]\n",
            "[1 5 3]\n"
          ]
        }
      ]
    },
    {
      "cell_type": "code",
      "source": [
        "import numpy as np\n",
        "a=np.array([1,2,3])\n",
        "b=np.array([2,3,4])\n",
        "c=np.hstack((a,b))\n",
        "print(c)"
      ],
      "metadata": {
        "colab": {
          "base_uri": "https://localhost:8080/"
        },
        "id": "CsYupwWwKhRI",
        "outputId": "26cbff9c-3b8c-4c32-900f-27dd531818a2"
      },
      "execution_count": null,
      "outputs": [
        {
          "output_type": "stream",
          "name": "stdout",
          "text": [
            "[1 2 3 2 3 4]\n"
          ]
        }
      ]
    },
    {
      "cell_type": "code",
      "source": [
        "import numpy as np\n",
        "a=np.array([1,2,3])\n",
        "b=np.array([2,3,4])\n",
        "c=np.vstack((a,b))\n",
        "print(c)"
      ],
      "metadata": {
        "colab": {
          "base_uri": "https://localhost:8080/"
        },
        "id": "VYhuZ-PLK-f4",
        "outputId": "d1f84bac-a84a-4341-8bd2-464e9ac32295"
      },
      "execution_count": null,
      "outputs": [
        {
          "output_type": "stream",
          "name": "stdout",
          "text": [
            "[[1 2 3]\n",
            " [2 3 4]]\n"
          ]
        }
      ]
    },
    {
      "cell_type": "code",
      "source": [
        "import numpy as np\n",
        "a=np.array([1,2,3])\n",
        "b=np.array([2,3,4])\n",
        "c=np.column_stack((a,b))\n",
        "print(c)"
      ],
      "metadata": {
        "colab": {
          "base_uri": "https://localhost:8080/"
        },
        "id": "JWVvzxo6LYjx",
        "outputId": "0742489e-ac6b-4eaf-b712-7349e6e4f655"
      },
      "execution_count": null,
      "outputs": [
        {
          "output_type": "stream",
          "name": "stdout",
          "text": [
            "[[1 2]\n",
            " [2 3]\n",
            " [3 4]]\n"
          ]
        }
      ]
    },
    {
      "cell_type": "code",
      "source": [
        "import numpy as np\n",
        "a=np.array([1,2,3])\n",
        "b=np.array([2,3,4])\n",
        "c=np.row_stack((a,b))\n",
        "print(c)"
      ],
      "metadata": {
        "colab": {
          "base_uri": "https://localhost:8080/"
        },
        "id": "waXBqCEiLoBQ",
        "outputId": "99a9d076-7b92-4d84-b34d-62bdab6e19be"
      },
      "execution_count": null,
      "outputs": [
        {
          "output_type": "stream",
          "name": "stdout",
          "text": [
            "[[1 2 3]\n",
            " [2 3 4]]\n"
          ]
        }
      ]
    },
    {
      "cell_type": "code",
      "source": [
        "import numpy as np\n",
        "a=np.array([3,2,0,1])\n",
        "print(np.sort(a))"
      ],
      "metadata": {
        "colab": {
          "base_uri": "https://localhost:8080/"
        },
        "id": "DDe8zDC4LybQ",
        "outputId": "9cfa6a1e-aaba-4692-fd68-ba133a015b5c"
      },
      "execution_count": null,
      "outputs": [
        {
          "output_type": "stream",
          "name": "stdout",
          "text": [
            "[0 1 2 3]\n"
          ]
        }
      ]
    },
    {
      "cell_type": "code",
      "source": [
        "import numpy as np\n",
        "a=np.array([[3,2,0],[3,4,5]])\n",
        "print(np.sort(a))"
      ],
      "metadata": {
        "colab": {
          "base_uri": "https://localhost:8080/"
        },
        "id": "BKIUdd4KMHxI",
        "outputId": "7783f389-9f34-40d5-e3dc-94d528cf3c40"
      },
      "execution_count": null,
      "outputs": [
        {
          "output_type": "stream",
          "name": "stdout",
          "text": [
            "[[0 2 3]\n",
            " [3 4 5]]\n"
          ]
        }
      ]
    },
    {
      "cell_type": "code",
      "source": [
        "import numpy as np\n",
        "arr=np.array([41,42,43,44])\n",
        "x=[True,False,True,False]\n",
        "newarr=arr[x]\n",
        "print(newarr)"
      ],
      "metadata": {
        "colab": {
          "base_uri": "https://localhost:8080/"
        },
        "id": "xFEdUfL_MdIS",
        "outputId": "bdb1f134-615a-43ab-a4fe-e3ccf1772063"
      },
      "execution_count": null,
      "outputs": [
        {
          "output_type": "stream",
          "name": "stdout",
          "text": [
            "[41 43]\n"
          ]
        }
      ]
    },
    {
      "cell_type": "code",
      "source": [
        "import numpy as np\n",
        "a=np.array([1,2,3])\n",
        "b=np.array([2,3,4])\n",
        "c=np.stack((a,b),axis=0)\n",
        "print(c)"
      ],
      "metadata": {
        "colab": {
          "base_uri": "https://localhost:8080/"
        },
        "id": "1haKY4qKORGY",
        "outputId": "ef569831-3b8b-4af2-a568-ed64686ebca3"
      },
      "execution_count": null,
      "outputs": [
        {
          "output_type": "stream",
          "name": "stdout",
          "text": [
            "[[1 2 3]\n",
            " [2 3 4]]\n"
          ]
        }
      ]
    },
    {
      "cell_type": "code",
      "source": [
        "import numpy as np\n",
        "a=np.array([1,2,3])\n",
        "b=np.array([2,3,4])\n",
        "c=np.stack((a,b),axis=1)\n",
        "print(c)"
      ],
      "metadata": {
        "colab": {
          "base_uri": "https://localhost:8080/"
        },
        "id": "VPdrPPKqOblv",
        "outputId": "11682109-11a2-4fd6-f959-3c5e4a9e0f48"
      },
      "execution_count": null,
      "outputs": [
        {
          "output_type": "stream",
          "name": "stdout",
          "text": [
            "[[1 2]\n",
            " [2 3]\n",
            " [3 4]]\n"
          ]
        }
      ]
    },
    {
      "cell_type": "code",
      "source": [
        "import numpy as np\n",
        "mx=np.array([[5,10],[15,20]])\n",
        "print(\"matrix=\\n\",mx)\n",
        "print(\"\\nthe summation of elements=\")\n",
        "print(np.sum(mx))\n",
        "print(\"\\nthe column wise summation=\")\n",
        "print(np.sum(mx,axis=0))\n",
        "print(\"\\nthe row wise summation=\")\n",
        "print(np.sum(mx,axis=1))"
      ],
      "metadata": {
        "colab": {
          "base_uri": "https://localhost:8080/"
        },
        "id": "WhbYs5kFO8Rg",
        "outputId": "78808e5a-d635-4f15-b818-161c826b4d41"
      },
      "execution_count": null,
      "outputs": [
        {
          "output_type": "stream",
          "name": "stdout",
          "text": [
            "matrix=\n",
            " [[ 5 10]\n",
            " [15 20]]\n",
            "\n",
            "the summation of elements=\n",
            "50\n",
            "\n",
            "the column wise summation=\n",
            "[20 30]\n",
            "\n",
            "the row wise summation=\n",
            "[15 35]\n"
          ]
        }
      ]
    },
    {
      "cell_type": "code",
      "source": [
        "import numpy as np\n",
        "mx=np.array([[5,10],[15,20]])\n",
        "print(\"matrix=\\n\",mx)\n",
        "print(\"\\nthe transpose\")\n",
        "print(mx.T)"
      ],
      "metadata": {
        "colab": {
          "base_uri": "https://localhost:8080/"
        },
        "id": "5Y0RJw7EQRJw",
        "outputId": "956e95d2-1e98-44f2-e576-9092b3785876"
      },
      "execution_count": null,
      "outputs": [
        {
          "output_type": "stream",
          "name": "stdout",
          "text": [
            "matrix=\n",
            " [[ 5 10]\n",
            " [15 20]]\n",
            "\n",
            "the transpose\n",
            "[[ 5 15]\n",
            " [10 20]]\n"
          ]
        }
      ]
    },
    {
      "cell_type": "code",
      "source": [
        "import numpy as np\n",
        "a=np.arange(20)\n",
        "print(\"\\n array is:\\n\",a)\n",
        "print(\"\\n a[-8:17:1]=\",a[-8:17:1])\n",
        "print(\"\\n a[10:]=\",a[10:])"
      ],
      "metadata": {
        "colab": {
          "base_uri": "https://localhost:8080/"
        },
        "id": "I7scpighQwdo",
        "outputId": "c23dfa0a-0a8b-4169-c232-4f969c3ed612"
      },
      "execution_count": null,
      "outputs": [
        {
          "output_type": "stream",
          "name": "stdout",
          "text": [
            "\n",
            " array is:\n",
            " [ 0  1  2  3  4  5  6  7  8  9 10 11 12 13 14 15 16 17 18 19]\n",
            "\n",
            " a[-8:17:1]= [12 13 14 15 16]\n",
            "\n",
            " a[10:]= [10 11 12 13 14 15 16 17 18 19]\n"
          ]
        }
      ]
    },
    {
      "cell_type": "code",
      "source": [
        "import numpy as np\n",
        "list1=[x for x in range(0,101,2)]\n",
        "a=np.array(list1)\n",
        "print(a)\n",
        "print(type(list1))\n",
        "print(type(a))"
      ],
      "metadata": {
        "colab": {
          "base_uri": "https://localhost:8080/"
        },
        "id": "zY0ukmtRS3gQ",
        "outputId": "6ddce8d0-4b29-405a-b4c8-37d53160fb8d"
      },
      "execution_count": null,
      "outputs": [
        {
          "output_type": "stream",
          "name": "stdout",
          "text": [
            "[  0   2   4   6   8  10  12  14  16  18  20  22  24  26  28  30  32  34\n",
            "  36  38  40  42  44  46  48  50  52  54  56  58  60  62  64  66  68  70\n",
            "  72  74  76  78  80  82  84  86  88  90  92  94  96  98 100]\n",
            "<class 'list'>\n",
            "<class 'numpy.ndarray'>\n"
          ]
        }
      ]
    },
    {
      "cell_type": "code",
      "source": [
        "b=np.arange(50,0,-1).reshape(10,5)\n",
        "print(b)"
      ],
      "metadata": {
        "colab": {
          "base_uri": "https://localhost:8080/"
        },
        "id": "UFXSg2a3TnCQ",
        "outputId": "14bff76d-bc83-4286-8d19-3622fb3ea48f"
      },
      "execution_count": null,
      "outputs": [
        {
          "output_type": "stream",
          "name": "stdout",
          "text": [
            "[[50 49 48 47 46]\n",
            " [45 44 43 42 41]\n",
            " [40 39 38 37 36]\n",
            " [35 34 33 32 31]\n",
            " [30 29 28 27 26]\n",
            " [25 24 23 22 21]\n",
            " [20 19 18 17 16]\n",
            " [15 14 13 12 11]\n",
            " [10  9  8  7  6]\n",
            " [ 5  4  3  2  1]]\n"
          ]
        }
      ]
    },
    {
      "cell_type": "code",
      "source": [
        "b=np.arange(9,0,-1).reshape(3,3)\n",
        "print(b)"
      ],
      "metadata": {
        "colab": {
          "base_uri": "https://localhost:8080/"
        },
        "id": "geBLS6ggTnKo",
        "outputId": "39739c9f-8dc3-4cea-f7b2-0587e3a842a9"
      },
      "execution_count": null,
      "outputs": [
        {
          "output_type": "stream",
          "name": "stdout",
          "text": [
            "[[9 8 7]\n",
            " [6 5 4]\n",
            " [3 2 1]]\n"
          ]
        }
      ]
    },
    {
      "cell_type": "code",
      "source": [
        "nparray=np.empty((3,3),int)\n",
        "nparray"
      ],
      "metadata": {
        "colab": {
          "base_uri": "https://localhost:8080/"
        },
        "id": "jdOgFHurUX8J",
        "outputId": "fba6c1d4-6563-4bf0-c9ed-1ba47974e7bc"
      },
      "execution_count": null,
      "outputs": [
        {
          "output_type": "execute_result",
          "data": {
            "text/plain": [
              "array([[           72140096,                   0, 7594318452449042464],\n",
              "       [ 754755775995343725, 2314885530818453536, 8028075836850796645],\n",
              "       [2336361506924426094, 7310302487399916898,                 160]])"
            ]
          },
          "metadata": {},
          "execution_count": 46
        }
      ]
    },
    {
      "cell_type": "code",
      "source": [
        "z=np.linspace(0,100,5)\n",
        "print(z)"
      ],
      "metadata": {
        "colab": {
          "base_uri": "https://localhost:8080/"
        },
        "id": "EraMGpKIUrKY",
        "outputId": "661cfdd2-6bee-4ede-a14e-3b682642a093"
      },
      "execution_count": null,
      "outputs": [
        {
          "output_type": "stream",
          "name": "stdout",
          "text": [
            "[  0.  25.  50.  75. 100.]\n"
          ]
        }
      ]
    },
    {
      "cell_type": "code",
      "source": [
        "a=np.array([1,3,2,4,5])\n",
        "b=np.array([1,2,3,4,5])\n",
        "print(np.where(a==b))\n"
      ],
      "metadata": {
        "colab": {
          "base_uri": "https://localhost:8080/"
        },
        "id": "lgK2JBNvVP4H",
        "outputId": "53213254-4217-4011-9bab-44788b118233"
      },
      "execution_count": null,
      "outputs": [
        {
          "output_type": "stream",
          "name": "stdout",
          "text": [
            "(array([0, 3, 4]),)\n"
          ]
        }
      ]
    },
    {
      "cell_type": "code",
      "source": [
        "import numpy as np\n",
        "arr=np.array([10,20,30,4,50,4,4])\n",
        "x=np.where(arr==4)\n",
        "print(x)"
      ],
      "metadata": {
        "colab": {
          "base_uri": "https://localhost:8080/"
        },
        "id": "QcuiMnWeWraB",
        "outputId": "d212a28b-4cbc-4d84-8df5-c193c251f1a5"
      },
      "execution_count": null,
      "outputs": [
        {
          "output_type": "stream",
          "name": "stdout",
          "text": [
            "(array([3, 5, 6]),)\n"
          ]
        }
      ]
    },
    {
      "cell_type": "code",
      "source": [
        "import numpy as np\n",
        "arr=np.array([10,20,33,45,58,68,74,89])\n",
        "x=np.where(arr%2==0)\n",
        "print(x)"
      ],
      "metadata": {
        "colab": {
          "base_uri": "https://localhost:8080/"
        },
        "id": "TNjkxBnHXEKH",
        "outputId": "5cbbd892-ecb5-4357-95a0-e7a43bc77b30"
      },
      "execution_count": null,
      "outputs": [
        {
          "output_type": "stream",
          "name": "stdout",
          "text": [
            "(array([0, 1, 4, 5, 6]),)\n"
          ]
        }
      ]
    },
    {
      "cell_type": "code",
      "source": [
        "import numpy as np\n",
        "arr=np.array([10,20,33,45,58,68,74,89])\n",
        "x=np.where(arr%2!=0)\n",
        "print(x)"
      ],
      "metadata": {
        "colab": {
          "base_uri": "https://localhost:8080/"
        },
        "id": "N5IBrXFYXhjf",
        "outputId": "c53f895e-0b66-4aac-a8da-3dc59fb3c859"
      },
      "execution_count": null,
      "outputs": [
        {
          "output_type": "stream",
          "name": "stdout",
          "text": [
            "(array([2, 3, 7]),)\n"
          ]
        }
      ]
    },
    {
      "cell_type": "code",
      "source": [
        "import numpy as np\n",
        "arr=np.array([6,7,8,9])\n",
        "x=np.searchsorted(arr,7)\n",
        "print(x)"
      ],
      "metadata": {
        "colab": {
          "base_uri": "https://localhost:8080/"
        },
        "id": "2MbCgI-nXoDg",
        "outputId": "f21d4b97-6ca7-4e86-a83d-ba05065ad0a5"
      },
      "execution_count": null,
      "outputs": [
        {
          "output_type": "stream",
          "name": "stdout",
          "text": [
            "1\n"
          ]
        }
      ]
    },
    {
      "cell_type": "code",
      "source": [
        "import numpy as np\n",
        "arr=np.array([6,7,8,9])\n",
        "x=np.searchsorted(arr,9)\n",
        "print(x)"
      ],
      "metadata": {
        "colab": {
          "base_uri": "https://localhost:8080/"
        },
        "id": "MZUD5ZQiX6xo",
        "outputId": "2e126ad8-b8d7-4c88-d86d-75e0f4bd7023"
      },
      "execution_count": null,
      "outputs": [
        {
          "output_type": "stream",
          "name": "stdout",
          "text": [
            "3\n"
          ]
        }
      ]
    },
    {
      "cell_type": "code",
      "source": [
        "import numpy as np\n",
        "arr=np.array([61,73,83,91])\n",
        "x=np.searchsorted(arr,73)\n",
        "print(x)"
      ],
      "metadata": {
        "colab": {
          "base_uri": "https://localhost:8080/"
        },
        "id": "EKWuEswKYBQ4",
        "outputId": "51a363e4-b965-4b35-a1ad-0eab7172d512"
      },
      "execution_count": null,
      "outputs": [
        {
          "output_type": "stream",
          "name": "stdout",
          "text": [
            "1\n"
          ]
        }
      ]
    },
    {
      "cell_type": "code",
      "source": [
        "import numpy as np\n",
        "arr=np.array([6,7,8,9])\n",
        "x=np.searchsorted(arr,7,side='right')\n",
        "print(x)"
      ],
      "metadata": {
        "colab": {
          "base_uri": "https://localhost:8080/"
        },
        "id": "E6mj7V2nYYTw",
        "outputId": "b804675b-f60d-4a3d-888b-9ec2e390b82f"
      },
      "execution_count": null,
      "outputs": [
        {
          "output_type": "stream",
          "name": "stdout",
          "text": [
            "2\n"
          ]
        }
      ]
    },
    {
      "cell_type": "code",
      "source": [
        "import numpy as np\n",
        "arr=np.array([10,20,40,60])\n",
        "x=np.searchsorted(arr,[20,40,60])\n",
        "print(arr)\n",
        "print(x)"
      ],
      "metadata": {
        "colab": {
          "base_uri": "https://localhost:8080/"
        },
        "id": "OAT28oItYkc4",
        "outputId": "6cfc9aa7-7e08-4623-979a-47920c1f3070"
      },
      "execution_count": null,
      "outputs": [
        {
          "output_type": "stream",
          "name": "stdout",
          "text": [
            "[10 20 40 60]\n",
            "[1 2 3]\n"
          ]
        }
      ]
    },
    {
      "cell_type": "code",
      "source": [
        "array1=np.array([1,2,3,4,5,9,6,7,8,9,9])\n",
        "print(np.std(array1))\n",
        "print(np.min(array1))\n",
        "print(np.sum(array1))\n",
        "print(np.median(array1))\n",
        "print(np.mean(array1))\n",
        "from scipy import stats\n",
        "print(\"most frequent element=\",stats.mode(array1)[0])\n",
        "print(\"number of occurences=\",stats.mode(array1)[1])\n",
        "print(np.var(array1))"
      ],
      "metadata": {
        "colab": {
          "base_uri": "https://localhost:8080/"
        },
        "id": "OX_16OUMZZ4g",
        "outputId": "e52b129a-f562-40f2-9704-0fb604380868"
      },
      "execution_count": null,
      "outputs": [
        {
          "output_type": "stream",
          "name": "stdout",
          "text": [
            "2.7990553306073913\n",
            "1\n",
            "63\n",
            "6.0\n",
            "5.7272727272727275\n",
            "most frequent element= [9]\n",
            "number of occurences= [3]\n",
            "7.834710743801653\n"
          ]
        },
        {
          "output_type": "stream",
          "name": "stderr",
          "text": [
            "<ipython-input-70-a66fcc71840e>:8: FutureWarning: Unlike other reduction functions (e.g. `skew`, `kurtosis`), the default behavior of `mode` typically preserves the axis it acts along. In SciPy 1.11.0, this behavior will change: the default value of `keepdims` will become False, the `axis` over which the statistic is taken will be eliminated, and the value None will no longer be accepted. Set `keepdims` to True or False to avoid this warning.\n",
            "  print(\"most frequent element=\",stats.mode(array1)[0])\n",
            "<ipython-input-70-a66fcc71840e>:9: FutureWarning: Unlike other reduction functions (e.g. `skew`, `kurtosis`), the default behavior of `mode` typically preserves the axis it acts along. In SciPy 1.11.0, this behavior will change: the default value of `keepdims` will become False, the `axis` over which the statistic is taken will be eliminated, and the value None will no longer be accepted. Set `keepdims` to True or False to avoid this warning.\n",
            "  print(\"number of occurences=\",stats.mode(array1)[1])\n"
          ]
        }
      ]
    },
    {
      "cell_type": "code",
      "source": [
        "array1=np.array([1,2,3,12,5,7,0])\n",
        "print(np.count_nonzero(array1))\n",
        "print(np.nonzero(array1))\n",
        "print(array1.size)"
      ],
      "metadata": {
        "colab": {
          "base_uri": "https://localhost:8080/"
        },
        "id": "M593Jeu7c5rg",
        "outputId": "77cc36d0-a8eb-455c-f11b-24ddcecfbca3"
      },
      "execution_count": null,
      "outputs": [
        {
          "output_type": "stream",
          "name": "stdout",
          "text": [
            "6\n",
            "(array([0, 1, 2, 3, 4, 5]),)\n",
            "7\n"
          ]
        }
      ]
    },
    {
      "cell_type": "code",
      "source": [
        "https://numpy.org/doc/1.20/user/theory.broadcasting.html"
      ],
      "metadata": {
        "id": "au9E6vA4d6Oo"
      },
      "execution_count": null,
      "outputs": []
    },
    {
      "cell_type": "code",
      "source": [
        "https://www.tutorialspoint.com/numpy/numpy_broadcasting.htm"
      ],
      "metadata": {
        "colab": {
          "base_uri": "https://localhost:8080/",
          "height": 130
        },
        "id": "-9WGzq9ge1MP",
        "outputId": "05e6a037-3d5f-4ce7-9b09-66bfa385b21d"
      },
      "execution_count": null,
      "outputs": [
        {
          "output_type": "error",
          "ename": "SyntaxError",
          "evalue": "ignored",
          "traceback": [
            "\u001b[0;36m  File \u001b[0;32m\"<ipython-input-74-64725ceb92c6>\"\u001b[0;36m, line \u001b[0;32m1\u001b[0m\n\u001b[0;31m    https://www.tutorialspoint.com/numpy/numpy_broadcasting.htm\u001b[0m\n\u001b[0m          ^\u001b[0m\n\u001b[0;31mSyntaxError\u001b[0m\u001b[0;31m:\u001b[0m invalid syntax\n"
          ]
        }
      ]
    },
    {
      "cell_type": "code",
      "source": [
        "import numpy as np\n",
        "a = np.array([[0.0,0.0,0.0],[10.0,10.0,10.0],[20.0,20.0,20.0],[30.0,30.0,30.0]])\n",
        "b = np.array([1.0,2.0,3.0])\n",
        "\n",
        "print ('First array:')\n",
        "print (a)\n",
        "print ('\\n')\n",
        "\n",
        "print ('Second array:')\n",
        "print (b)\n",
        "print ('\\n')\n",
        "\n",
        "print ('First Array + Second Array')\n",
        "print (a + b)"
      ],
      "metadata": {
        "colab": {
          "base_uri": "https://localhost:8080/"
        },
        "id": "_AIV-PwufFdl",
        "outputId": "0977f916-4819-4299-d5f2-d70f560ec2a1"
      },
      "execution_count": null,
      "outputs": [
        {
          "output_type": "stream",
          "name": "stdout",
          "text": [
            "First array:\n",
            "[[ 0.  0.  0.]\n",
            " [10. 10. 10.]\n",
            " [20. 20. 20.]\n",
            " [30. 30. 30.]]\n",
            "\n",
            "\n",
            "Second array:\n",
            "[1. 2. 3.]\n",
            "\n",
            "\n",
            "First Array + Second Array\n",
            "[[ 1.  2.  3.]\n",
            " [11. 12. 13.]\n",
            " [21. 22. 23.]\n",
            " [31. 32. 33.]]\n"
          ]
        }
      ]
    },
    {
      "cell_type": "code",
      "source": [
        "import numpy as np\n",
        "\n",
        "a = np.array([1,2,3,4])\n",
        "b = np.array([10,20,30,40])\n",
        "c = a * b\n",
        "print (c)"
      ],
      "metadata": {
        "colab": {
          "base_uri": "https://localhost:8080/"
        },
        "id": "hLpSGBnmfFnv",
        "outputId": "2d5f2b83-90bb-4dde-8555-074dd1f54fb1"
      },
      "execution_count": null,
      "outputs": [
        {
          "output_type": "stream",
          "name": "stdout",
          "text": [
            "[ 10  40  90 160]\n"
          ]
        }
      ]
    },
    {
      "cell_type": "code",
      "source": [
        "product_details=[]\n",
        "supplier_details=dict()\n",
        "customer_details=[]\n",
        "gender={}\n",
        "\n",
        "fp1=open(\"Sales.csv\",\"r\")\n",
        "data=fp1.readline()\n",
        "\n",
        "while(True):\n",
        "\n",
        "   data=fp1.readline()\n",
        "   if not data:\n",
        "       break;\n",
        "   #print(data)\n",
        "   #data=data.replace(\"\\n\",\"\")\n",
        "   temp=data.split(\",\")\n",
        "   product_details.append(temp[1])\n",
        "   customer_details.append(temp[3])\n",
        "   supplier_details.update({temp[0]:temp[2]})\n",
        "   gender.update({temp[3]:temp[4]})\n",
        "\n",
        "fp1.close()\n",
        "\n",
        "customer_details=tuple(customer_details)\n",
        "print(type(customer_details))"
      ],
      "metadata": {
        "id": "Cyr8RN8-hiE5",
        "outputId": "b6b7bd63-149a-4064-baf3-24f2c64a64d1",
        "colab": {
          "base_uri": "https://localhost:8080/"
        }
      },
      "execution_count": null,
      "outputs": [
        {
          "output_type": "stream",
          "name": "stdout",
          "text": [
            "<class 'tuple'>\n"
          ]
        }
      ]
    },
    {
      "cell_type": "code",
      "source": [
        "product_dtails=[]\n",
        "supplier_details=[]\n",
        "customer_details=[]\n",
        "gender=[]\n",
        "import numpy as np\n",
        "list1=[x for x in range(product_details)]\n",
        "a=np.array(list1)\n",
        "print(a)\n",
        "print(type(list1))\n",
        "print(type(a))"
      ],
      "metadata": {
        "colab": {
          "base_uri": "https://localhost:8080/",
          "height": 235
        },
        "id": "MME19D-PeXOh",
        "outputId": "2200ad2a-7806-48c5-c6ec-2ac57bae6884"
      },
      "execution_count": null,
      "outputs": [
        {
          "output_type": "error",
          "ename": "NameError",
          "evalue": "ignored",
          "traceback": [
            "\u001b[0;31m---------------------------------------------------------------------------\u001b[0m",
            "\u001b[0;31mNameError\u001b[0m                                 Traceback (most recent call last)",
            "\u001b[0;32m<ipython-input-5-195cd43ae210>\u001b[0m in \u001b[0;36m<cell line: 6>\u001b[0;34m()\u001b[0m\n\u001b[1;32m      4\u001b[0m \u001b[0mgender\u001b[0m\u001b[0;34m=\u001b[0m\u001b[0;34m[\u001b[0m\u001b[0;34m]\u001b[0m\u001b[0;34m\u001b[0m\u001b[0;34m\u001b[0m\u001b[0m\n\u001b[1;32m      5\u001b[0m \u001b[0;32mimport\u001b[0m \u001b[0mnumpy\u001b[0m \u001b[0;32mas\u001b[0m \u001b[0mnp\u001b[0m\u001b[0;34m\u001b[0m\u001b[0;34m\u001b[0m\u001b[0m\n\u001b[0;32m----> 6\u001b[0;31m \u001b[0mlist1\u001b[0m\u001b[0;34m=\u001b[0m\u001b[0;34m[\u001b[0m\u001b[0mx\u001b[0m \u001b[0;32mfor\u001b[0m \u001b[0mx\u001b[0m \u001b[0;32min\u001b[0m \u001b[0mrange\u001b[0m\u001b[0;34m(\u001b[0m\u001b[0mproduct_details\u001b[0m\u001b[0;34m)\u001b[0m\u001b[0;34m]\u001b[0m\u001b[0;34m\u001b[0m\u001b[0;34m\u001b[0m\u001b[0m\n\u001b[0m\u001b[1;32m      7\u001b[0m \u001b[0ma\u001b[0m\u001b[0;34m=\u001b[0m\u001b[0mnp\u001b[0m\u001b[0;34m.\u001b[0m\u001b[0marray\u001b[0m\u001b[0;34m(\u001b[0m\u001b[0mlist1\u001b[0m\u001b[0;34m)\u001b[0m\u001b[0;34m\u001b[0m\u001b[0;34m\u001b[0m\u001b[0m\n\u001b[1;32m      8\u001b[0m \u001b[0mprint\u001b[0m\u001b[0;34m(\u001b[0m\u001b[0ma\u001b[0m\u001b[0;34m)\u001b[0m\u001b[0;34m\u001b[0m\u001b[0;34m\u001b[0m\u001b[0m\n",
            "\u001b[0;31mNameError\u001b[0m: name 'product_details' is not defined"
          ]
        }
      ]
    },
    {
      "cell_type": "code",
      "source": [
        "from google.colab import drive\n",
        "drive.mount('/content/drive')"
      ],
      "metadata": {
        "id": "k1YZPR8cewkW"
      },
      "execution_count": null,
      "outputs": []
    },
    {
      "cell_type": "code",
      "source": [
        "https://www.w3resource.com/numpy/array-creation/loadtxt.php"
      ],
      "metadata": {
        "id": "KG_ogD2Z4cEX"
      },
      "execution_count": null,
      "outputs": []
    },
    {
      "cell_type": "code",
      "source": [
        "import numpy as np\n",
        "array3=np.loadtxt('/content/fees.csv',delimiter=',',dtype=str,skiprows=1)\n",
        "print(array3)\n",
        "roll_number=[]\n",
        "number_of_courses=[]\n",
        "fees=[]\n",
        "division=[]\n",
        "for i in array3:\n",
        "  roll_number.append(int(i[0]))\n",
        "  number_of_courses.append(int(i[1]))\n",
        "  fees.append(int(i[2]))\n",
        "  division.append((i[3]))\n",
        "print(roll_number)\n",
        "print(number_of_courses)\n",
        "print(fees)\n",
        "print(division)\n",
        "arr_roll_number=np.array(roll_number)\n",
        "arr_number_of_courses=np.array(number_of_courses)\n",
        "arr_fees=np.array(fees)\n",
        "arr_division=np.array(division)\n",
        "\n",
        "print('array1:',arr_roll_number)\n",
        "print('array2:',arr_number_of_courses)\n",
        "print('array3:',arr_fees)\n",
        "print('array4:',arr_division)"
      ],
      "metadata": {
        "colab": {
          "base_uri": "https://localhost:8080/"
        },
        "id": "Oj7GZEXR_C-B",
        "outputId": "2a5e0f2a-0481-4d29-dcc2-5aab035fba13"
      },
      "execution_count": null,
      "outputs": [
        {
          "output_type": "stream",
          "name": "stdout",
          "text": [
            "[['101' '1' '500' 'A' '']\n",
            " ['102' '1' '500' 'A' '']\n",
            " ['103' '8' '4000' 'A' '']\n",
            " ['104' '1' '500' 'B' '']\n",
            " ['105' '1' '500' 'B' '']\n",
            " ['106' '2' '1000' 'C' '']\n",
            " ['109' '2' '1000' 'C' '']\n",
            " ['110' '1' '500' 'A' '']\n",
            " ['111' '3' '1500' 'B' '']\n",
            " ['114' '2' '1000' 'C' '']\n",
            " ['115' '2' '1000' 'D' '']\n",
            " ['117' '6' '3000' 'G' '']\n",
            " ['119' '3' '1500' 'G' '']\n",
            " ['120' '2' '1000' 'H' '']\n",
            " ['121' '1' '500' 'H' '']\n",
            " ['122' '2' '1000' 'E' '']\n",
            " ['123' '2' '1000' 'E' '']\n",
            " ['125' '3' '1500' 'E' '']\n",
            " ['126' '4' '2000' 'C' '']\n",
            " ['127' '1' '500' 'F' '']\n",
            " ['128' '1' '500' 'F' '']\n",
            " ['129' '6' '3000' 'E' '']\n",
            " ['130' '2' '1000' 'G' '']\n",
            " ['131' '3' '1500' 'G' '']]\n",
            "[101, 102, 103, 104, 105, 106, 109, 110, 111, 114, 115, 117, 119, 120, 121, 122, 123, 125, 126, 127, 128, 129, 130, 131]\n",
            "[1, 1, 8, 1, 1, 2, 2, 1, 3, 2, 2, 6, 3, 2, 1, 2, 2, 3, 4, 1, 1, 6, 2, 3]\n",
            "[500, 500, 4000, 500, 500, 1000, 1000, 500, 1500, 1000, 1000, 3000, 1500, 1000, 500, 1000, 1000, 1500, 2000, 500, 500, 3000, 1000, 1500]\n",
            "['A', 'A', 'A', 'B', 'B', 'C', 'C', 'A', 'B', 'C', 'D', 'G', 'G', 'H', 'H', 'E', 'E', 'E', 'C', 'F', 'F', 'E', 'G', 'G']\n",
            "array1: [101 102 103 104 105 106 109 110 111 114 115 117 119 120 121 122 123 125\n",
            " 126 127 128 129 130 131]\n",
            "array2: [1 1 8 1 1 2 2 1 3 2 2 6 3 2 1 2 2 3 4 1 1 6 2 3]\n",
            "array3: [ 500  500 4000  500  500 1000 1000  500 1500 1000 1000 3000 1500 1000\n",
            "  500 1000 1000 1500 2000  500  500 3000 1000 1500]\n",
            "array4: ['A' 'A' 'A' 'B' 'B' 'C' 'C' 'A' 'B' 'C' 'D' 'G' 'G' 'H' 'H' 'E' 'E' 'E'\n",
            " 'C' 'F' 'F' 'E' 'G' 'G']\n"
          ]
        }
      ]
    },
    {
      "cell_type": "code",
      "source": [
        "print(np.min(arr_fees))\n",
        "print(np.max(arr_fees))\n",
        "print(np.sum(arr_fees))\n",
        "print(np.sum(arr_fees/len(arr_fees)))"
      ],
      "metadata": {
        "colab": {
          "base_uri": "https://localhost:8080/"
        },
        "id": "RsuXoao-FtBC",
        "outputId": "ad50718e-2665-458a-abb1-f05b5d428c43"
      },
      "execution_count": null,
      "outputs": [
        {
          "output_type": "stream",
          "name": "stdout",
          "text": [
            "500\n",
            "4000\n",
            "30000\n",
            "1250.0\n"
          ]
        }
      ]
    },
    {
      "cell_type": "code",
      "source": [
        "arr_number_of_courses*arr_fees\n"
      ],
      "metadata": {
        "colab": {
          "base_uri": "https://localhost:8080/"
        },
        "id": "PZx-kEzgvugO",
        "outputId": "659997b8-6e02-4ec5-e5af-4bba604dd65a"
      },
      "execution_count": null,
      "outputs": [
        {
          "output_type": "execute_result",
          "data": {
            "text/plain": [
              "array([  500,   500, 32000,   500,   500,  2000,  2000,   500,  4500,\n",
              "        2000,  2000, 18000,  4500,  2000,   500,  2000,  2000,  4500,\n",
              "        8000,   500,   500, 18000,  2000,  4500])"
            ]
          },
          "metadata": {},
          "execution_count": 24
        }
      ]
    },
    {
      "cell_type": "code",
      "source": [
        "arr_number_of_courses+arr_fees"
      ],
      "metadata": {
        "colab": {
          "base_uri": "https://localhost:8080/"
        },
        "id": "o5ZyGJ3v1c5C",
        "outputId": "f996dd7c-a880-46da-8f94-94ae2ec2151d"
      },
      "execution_count": null,
      "outputs": [
        {
          "output_type": "execute_result",
          "data": {
            "text/plain": [
              "array([ 501,  501, 4008,  501,  501, 1002, 1002,  501, 1503, 1002, 1002,\n",
              "       3006, 1503, 1002,  501, 1002, 1002, 1503, 2004,  501,  501, 3006,\n",
              "       1002, 1503])"
            ]
          },
          "metadata": {},
          "execution_count": 25
        }
      ]
    },
    {
      "cell_type": "code",
      "source": [
        "arr_fees-arr_number_of_courses"
      ],
      "metadata": {
        "colab": {
          "base_uri": "https://localhost:8080/"
        },
        "id": "ytK1gCIA1foH",
        "outputId": "069a78ac-dc1d-457b-f2bb-938ae47d9809"
      },
      "execution_count": null,
      "outputs": [
        {
          "output_type": "execute_result",
          "data": {
            "text/plain": [
              "array([ 499,  499, 3992,  499,  499,  998,  998,  499, 1497,  998,  998,\n",
              "       2994, 1497,  998,  499,  998,  998, 1497, 1996,  499,  499, 2994,\n",
              "        998, 1497])"
            ]
          },
          "metadata": {},
          "execution_count": 26
        }
      ]
    },
    {
      "cell_type": "code",
      "source": [
        "arr_fees/arr_number_of_courses"
      ],
      "metadata": {
        "colab": {
          "base_uri": "https://localhost:8080/"
        },
        "id": "4zFQfW4r1pRv",
        "outputId": "04fac227-688f-4422-834d-15d553d0333b"
      },
      "execution_count": null,
      "outputs": [
        {
          "output_type": "execute_result",
          "data": {
            "text/plain": [
              "array([500., 500., 500., 500., 500., 500., 500., 500., 500., 500., 500.,\n",
              "       500., 500., 500., 500., 500., 500., 500., 500., 500., 500., 500.,\n",
              "       500., 500.])"
            ]
          },
          "metadata": {},
          "execution_count": 27
        }
      ]
    },
    {
      "cell_type": "code",
      "source": [
        "mx=np.array([arr_fees,arr_number_of_courses])\n",
        "print(\"matrix=\\n\",mx)\n",
        "print(\"\\nthe transpose\")\n",
        "print(mx.T)"
      ],
      "metadata": {
        "colab": {
          "base_uri": "https://localhost:8080/"
        },
        "id": "Epkq5PviCe8w",
        "outputId": "3b61772e-0deb-4659-a152-6ccff6653e9f"
      },
      "execution_count": null,
      "outputs": [
        {
          "output_type": "stream",
          "name": "stdout",
          "text": [
            "matrix=\n",
            " [array([ 0,  1,  2,  3,  4,  5,  6,  7,  8,  9, 10, 11, 12, 13, 14, 15, 16,\n",
            "        17, 18, 19])\n",
            " array([1, 1, 8, 1, 1, 2, 2, 1, 3, 2, 2, 6, 3, 2, 1, 2, 2, 3, 4, 1, 1, 6,\n",
            "        2, 3])                                                           ]\n",
            "\n",
            "the transpose\n",
            "[array([ 0,  1,  2,  3,  4,  5,  6,  7,  8,  9, 10, 11, 12, 13, 14, 15, 16,\n",
            "        17, 18, 19])\n",
            " array([1, 1, 8, 1, 1, 2, 2, 1, 3, 2, 2, 6, 3, 2, 1, 2, 2, 3, 4, 1, 1, 6,\n",
            "        2, 3])                                                           ]\n"
          ]
        },
        {
          "output_type": "stream",
          "name": "stderr",
          "text": [
            "<ipython-input-34-5efeeaaafc50>:1: VisibleDeprecationWarning: Creating an ndarray from ragged nested sequences (which is a list-or-tuple of lists-or-tuples-or ndarrays with different lengths or shapes) is deprecated. If you meant to do this, you must specify 'dtype=object' when creating the ndarray.\n",
            "  mx=np.array([arr_fees,arr_number_of_courses])\n"
          ]
        }
      ]
    },
    {
      "cell_type": "code",
      "source": [
        "print(arr_number_of_courses[1:5])\n",
        "print(arr_fees[1:6])\n",
        "print(arr_roll_number[1:6])\n"
      ],
      "metadata": {
        "colab": {
          "base_uri": "https://localhost:8080/"
        },
        "id": "w0HOjw6v1wjS",
        "outputId": "a6bb1a9d-1714-46f5-fdaa-82fe464ca590"
      },
      "execution_count": null,
      "outputs": [
        {
          "output_type": "stream",
          "name": "stdout",
          "text": [
            "[1 8 1 1]\n",
            "[ 500 4000  500  500 1000]\n",
            "[102 103 104 105 106]\n"
          ]
        }
      ]
    },
    {
      "cell_type": "code",
      "source": [
        "mean_a=np.mean(arr_fees)\n",
        "print(mean_a)\n",
        "\n"
      ],
      "metadata": {
        "colab": {
          "base_uri": "https://localhost:8080/"
        },
        "id": "DIl-kmoO8zE2",
        "outputId": "10293678-6ffe-48ff-ca0e-2102fb0fe109"
      },
      "execution_count": null,
      "outputs": [
        {
          "output_type": "stream",
          "name": "stdout",
          "text": [
            "1250.0\n"
          ]
        }
      ]
    },
    {
      "cell_type": "code",
      "source": [
        "median_a=np.median(arr_fees)\n",
        "print(median_a)\n",
        "std_a=np.std(arr_fees)\n",
        "print(std_a)"
      ],
      "metadata": {
        "colab": {
          "base_uri": "https://localhost:8080/"
        },
        "id": "YxEGF67W659E",
        "outputId": "878580ae-4a8a-44d9-9c70-054caff3e4e7"
      },
      "execution_count": null,
      "outputs": [
        {
          "output_type": "stream",
          "name": "stdout",
          "text": [
            "1000.0\n",
            "901.3878188659974\n"
          ]
        }
      ]
    },
    {
      "cell_type": "code",
      "source": [
        "arr1=np.bitwise_or(arr_roll_number,arr_fees)\n",
        "print(arr1)\n",
        "arr2=np.bitwise_and(arr_roll_number,arr_fees)\n",
        "print(arr2)\n",
        "arr3=np.bitwise_xor(arr_roll_number,arr_fees)\n",
        "print(arr3)\n",
        "arr4=np.bitwise_not(arr_number_of_courses)\n",
        "print(arr4)"
      ],
      "metadata": {
        "colab": {
          "base_uri": "https://localhost:8080/"
        },
        "id": "fNfh2tBG9sl5",
        "outputId": "0c20fa19-bb7b-4924-f244-a7750aff4879"
      },
      "execution_count": null,
      "outputs": [
        {
          "output_type": "stream",
          "name": "stdout",
          "text": [
            "[ 501  502 4071  508  509 1002 1005  510 1535 1018 1019 3069 1535 1016\n",
            "  509 1018 1019 1533 2046  511  500 3001 1002 1503]\n",
            "[100 100  32  96  96 104 104 100  76  96  96  48  84 104 112 104 104  92\n",
            "  80 116 128 128 128 128]\n",
            "[ 401  402 4039  412  413  898  901  410 1459  922  923 3021 1451  912\n",
            "  397  914  915 1441 1966  395  372 2873  874 1375]\n",
            "[-2 -2 -9 -2 -2 -3 -3 -2 -4 -3 -3 -7 -4 -3 -2 -3 -3 -4 -5 -2 -2 -7 -3 -4]\n"
          ]
        }
      ]
    },
    {
      "cell_type": "code",
      "source": [
        "\n",
        "arr_roll_number.view()\n"
      ],
      "metadata": {
        "colab": {
          "base_uri": "https://localhost:8080/"
        },
        "id": "QWATgHkF3WdJ",
        "outputId": "87b1af57-b87e-46cd-f6e5-516a48c6f92c"
      },
      "execution_count": null,
      "outputs": [
        {
          "output_type": "execute_result",
          "data": {
            "text/plain": [
              "array([101, 102, 103, 104, 105, 106, 109, 110, 111, 114, 115, 117, 119,\n",
              "       120, 121, 122, 123, 125, 126, 127, 128, 129, 130, 131])"
            ]
          },
          "metadata": {},
          "execution_count": 18
        }
      ]
    },
    {
      "cell_type": "markdown",
      "source": [],
      "metadata": {
        "id": "AksV9qmV6gmI"
      }
    },
    {
      "cell_type": "code",
      "source": [
        "arr=arr_number_of_courses.copy()\n",
        "print(arr)"
      ],
      "metadata": {
        "colab": {
          "base_uri": "https://localhost:8080/"
        },
        "id": "91Gml0qq7tc-",
        "outputId": "f2c0544b-126c-42e0-8e9b-6c6a472cab81"
      },
      "execution_count": null,
      "outputs": [
        {
          "output_type": "stream",
          "name": "stdout",
          "text": [
            "[1 1 8 1 1 2 2 1 3 2 2 6 3 2 1 2 2 3 4 1 1 6 2 3]\n"
          ]
        }
      ]
    },
    {
      "cell_type": "code",
      "source": [
        "arr3=np.vstack((arr_number_of_courses,arr_fees))\n",
        "print(arr3)\n",
        "arr4=np.hstack((arr_number_of_courses,arr_fees))\n",
        "print(arr4)\n",
        "arr3=np.vstack((arr_number_of_courses,arr_roll_number))\n",
        "print(arr3)\n",
        "arr4=np.hstack((arr_number_of_courses,arr_roll_number))\n",
        "print(arr4)"
      ],
      "metadata": {
        "colab": {
          "base_uri": "https://localhost:8080/"
        },
        "id": "vsC0xMbU7DV8",
        "outputId": "6369ec7a-117f-4493-f838-112e4fc9f7a4"
      },
      "execution_count": null,
      "outputs": [
        {
          "output_type": "stream",
          "name": "stdout",
          "text": [
            "[[   1    1    8    1    1    2    2    1    3    2    2    6    3    2\n",
            "     1    2    2    3    4    1    1    6    2    3]\n",
            " [ 500  500 4000  500  500 1000 1000  500 1500 1000 1000 3000 1500 1000\n",
            "   500 1000 1000 1500 2000  500  500 3000 1000 1500]]\n",
            "[   1    1    8    1    1    2    2    1    3    2    2    6    3    2\n",
            "    1    2    2    3    4    1    1    6    2    3  500  500 4000  500\n",
            "  500 1000 1000  500 1500 1000 1000 3000 1500 1000  500 1000 1000 1500\n",
            " 2000  500  500 3000 1000 1500]\n",
            "[[  1   1   8   1   1   2   2   1   3   2   2   6   3   2   1   2   2   3\n",
            "    4   1   1   6   2   3]\n",
            " [101 102 103 104 105 106 109 110 111 114 115 117 119 120 121 122 123 125\n",
            "  126 127 128 129 130 131]]\n",
            "[  1   1   8   1   1   2   2   1   3   2   2   6   3   2   1   2   2   3\n",
            "   4   1   1   6   2   3 101 102 103 104 105 106 109 110 111 114 115 117\n",
            " 119 120 121 122 123 125 126 127 128 129 130 131]\n"
          ]
        }
      ]
    },
    {
      "cell_type": "code",
      "source": [
        "arr5=np.array(arr_fees)\n",
        "print(np.sort(arr5))"
      ],
      "metadata": {
        "colab": {
          "base_uri": "https://localhost:8080/"
        },
        "id": "Ahd5bwdtB_Ok",
        "outputId": "535263cd-68c7-4da4-fed0-f68916c2496a"
      },
      "execution_count": null,
      "outputs": [
        {
          "output_type": "stream",
          "name": "stdout",
          "text": [
            "[ 0  1  2  3  4  5  6  7  8  9 10 11 12 13 14 15 16 17 18 19]\n"
          ]
        }
      ]
    },
    {
      "cell_type": "code",
      "source": [
        "print(np.sort(arr_fees))\n",
        "print(np.sort(roll_number))\n",
        "print(np.sort(number_of_courses))"
      ],
      "metadata": {
        "colab": {
          "base_uri": "https://localhost:8080/"
        },
        "id": "Ro9LMU75CxDW",
        "outputId": "9a348206-7a64-4dd1-a720-ca432bd64b3c"
      },
      "execution_count": null,
      "outputs": [
        {
          "output_type": "stream",
          "name": "stdout",
          "text": [
            "[ 0  1  2  3  4  5  6  7  8  9 10 11 12 13 14 15 16 17 18 19]\n",
            "[101 102 103 104 105 106 109 110 111 114 115 117 119 120 121 122 123 125\n",
            " 126 127 128 129 130 131]\n",
            "[1 1 1 1 1 1 1 1 2 2 2 2 2 2 2 2 3 3 3 3 4 6 6 8]\n"
          ]
        }
      ]
    },
    {
      "cell_type": "code",
      "source": [
        "arr_fees=np.arange(20)\n",
        "print(\"\\n array is:\",arr_fees)\n",
        "print(\"\\n arr_fees[-8:17:1]=\",arr_fees[-8:17:1])\n",
        "print(\"\\n arr_fees[10:]=\",arr_fees[10:])"
      ],
      "metadata": {
        "colab": {
          "base_uri": "https://localhost:8080/"
        },
        "id": "9ClGwsie7d0W",
        "outputId": "a502b1ae-59bb-4565-f12c-5022750915db"
      },
      "execution_count": null,
      "outputs": [
        {
          "output_type": "stream",
          "name": "stdout",
          "text": [
            "\n",
            " array is: [ 0  1  2  3  4  5  6  7  8  9 10 11 12 13 14 15 16 17 18 19]\n",
            "\n",
            " arr_fees[-8:17:1]= [12 13 14 15 16]\n",
            "\n",
            " arr_fees[10:]= [10 11 12 13 14 15 16 17 18 19]\n"
          ]
        }
      ]
    },
    {
      "cell_type": "code",
      "source": [
        "indices = np.arange(len(arr_number_of_courses))\n",
        "for i in indices:\n",
        "    print(\"number of courses at index\", i, \":\", arr_number_of_courses[i])"
      ],
      "metadata": {
        "colab": {
          "base_uri": "https://localhost:8080/"
        },
        "id": "6AuLRh8eAqcC",
        "outputId": "f256db8e-38cc-441e-9ed2-f96fdce35bd2"
      },
      "execution_count": null,
      "outputs": [
        {
          "output_type": "stream",
          "name": "stdout",
          "text": [
            "number of courses at index 0 : 1\n",
            "number of courses at index 1 : 1\n",
            "number of courses at index 2 : 8\n",
            "number of courses at index 3 : 1\n",
            "number of courses at index 4 : 1\n",
            "number of courses at index 5 : 2\n",
            "number of courses at index 6 : 2\n",
            "number of courses at index 7 : 1\n",
            "number of courses at index 8 : 3\n",
            "number of courses at index 9 : 2\n",
            "number of courses at index 10 : 2\n",
            "number of courses at index 11 : 6\n",
            "number of courses at index 12 : 3\n",
            "number of courses at index 13 : 2\n",
            "number of courses at index 14 : 1\n",
            "number of courses at index 15 : 2\n",
            "number of courses at index 16 : 2\n",
            "number of courses at index 17 : 3\n",
            "number of courses at index 18 : 4\n",
            "number of courses at index 19 : 1\n",
            "number of courses at index 20 : 1\n",
            "number of courses at index 21 : 6\n",
            "number of courses at index 22 : 2\n",
            "number of courses at index 23 : 3\n"
          ]
        }
      ]
    },
    {
      "cell_type": "code",
      "source": [
        "import numpy as np\n",
        "np.count_nonzero(arr_fees==4000)\n",
        "\n",
        "\n"
      ],
      "metadata": {
        "colab": {
          "base_uri": "https://localhost:8080/"
        },
        "id": "GHVS3vq6AiZF",
        "outputId": "419722be-3f5f-4683-c162-f44e06af322a"
      },
      "execution_count": null,
      "outputs": [
        {
          "output_type": "execute_result",
          "data": {
            "text/plain": [
              "1"
            ]
          },
          "metadata": {},
          "execution_count": 22
        }
      ]
    },
    {
      "cell_type": "code",
      "source": [
        "np.count_nonzero(arr_fees==500)"
      ],
      "metadata": {
        "colab": {
          "base_uri": "https://localhost:8080/"
        },
        "id": "-LRpF4447yrV",
        "outputId": "ad914de9-498d-403f-81bc-5e5f923c4f49"
      },
      "execution_count": null,
      "outputs": [
        {
          "output_type": "execute_result",
          "data": {
            "text/plain": [
              "8"
            ]
          },
          "metadata": {},
          "execution_count": 23
        }
      ]
    },
    {
      "cell_type": "code",
      "source": [
        "np.count_nonzero(arr_fees<1500)"
      ],
      "metadata": {
        "colab": {
          "base_uri": "https://localhost:8080/"
        },
        "id": "uCpnEGCzBfAe",
        "outputId": "6d87c9d7-d290-4bba-e7bd-f6be90a4f12a"
      },
      "execution_count": null,
      "outputs": [
        {
          "output_type": "execute_result",
          "data": {
            "text/plain": [
              "16"
            ]
          },
          "metadata": {},
          "execution_count": 25
        }
      ]
    },
    {
      "cell_type": "code",
      "source": [
        "a=arr_fees[1:5]\n",
        "print(a)\n",
        "b=arr_number_of_courses[1:5]\n",
        "print(b)\n",
        "c=a+b\n",
        "print(c)"
      ],
      "metadata": {
        "colab": {
          "base_uri": "https://localhost:8080/"
        },
        "id": "XSwn93-D0b7Z",
        "outputId": "885ec706-a30b-4ded-bbc8-e957b8c1806d"
      },
      "execution_count": null,
      "outputs": [
        {
          "output_type": "stream",
          "name": "stdout",
          "text": [
            "[ 500 4000  500  500]\n",
            "[1 8 1 1]\n",
            "[ 501 4008  501  501]\n"
          ]
        }
      ]
    },
    {
      "cell_type": "markdown",
      "source": [],
      "metadata": {
        "id": "yKKQbto2_lhF"
      }
    },
    {
      "cell_type": "code",
      "source": [],
      "metadata": {
        "colab": {
          "base_uri": "https://localhost:8080/",
          "height": 130
        },
        "id": "w9_xoXsI04-Y",
        "outputId": "aba551b0-4706-4c88-b007-c2704582a532"
      },
      "execution_count": null,
      "outputs": [
        {
          "output_type": "error",
          "ename": "SyntaxError",
          "evalue": "ignored",
          "traceback": [
            "\u001b[0;36m  File \u001b[0;32m\"<ipython-input-23-e23f6cc56e5f>\"\u001b[0;36m, line \u001b[0;32m1\u001b[0m\n\u001b[0;31m    arr_fees+arr_roll number\u001b[0m\n\u001b[0m                      ^\u001b[0m\n\u001b[0;31mSyntaxError\u001b[0m\u001b[0;31m:\u001b[0m invalid syntax\n"
          ]
        }
      ]
    },
    {
      "cell_type": "code",
      "source": [
        "import pandas as pd\n",
        "mydataset={\n",
        "    'batch':[\"c1\",\"c2\",\"c3\",\"c4\"],\n",
        "    'strength':[21,19,21,23]\n",
        "}\n",
        "df=pd.DataFrame(mydataset)\n",
        "print(df)"
      ],
      "metadata": {
        "colab": {
          "base_uri": "https://localhost:8080/"
        },
        "id": "o7bFRjD_JOkg",
        "outputId": "10beed00-6fdb-494d-d99b-6140d89c13ed"
      },
      "execution_count": null,
      "outputs": [
        {
          "output_type": "stream",
          "name": "stdout",
          "text": [
            "  batch  strength\n",
            "0    c1        21\n",
            "1    c2        19\n",
            "2    c3        21\n",
            "3    c4        23\n"
          ]
        }
      ]
    },
    {
      "cell_type": "code",
      "source": [
        "import pandas as pd\n",
        "result={\"sic\":55,\"am\":60,\"eds\":66}\n",
        "sr=pd.Series(result)\n",
        "print(sr)\n"
      ],
      "metadata": {
        "colab": {
          "base_uri": "https://localhost:8080/"
        },
        "id": "3UD09LUIKD1v",
        "outputId": "3f00de58-a3b6-4c66-a839-fe030b7723bd"
      },
      "execution_count": null,
      "outputs": [
        {
          "output_type": "stream",
          "name": "stdout",
          "text": [
            "sic    55\n",
            "am     60\n",
            "eds    66\n",
            "dtype: int64\n"
          ]
        }
      ]
    },
    {
      "cell_type": "code",
      "source": [
        "import pandas as pd\n",
        "result={\"sic\":55,\"am\":60,\"eds\":66}\n",
        "sr=pd.Series(result,index=[\"sic\",\"eds\"])\n",
        "print(sr)"
      ],
      "metadata": {
        "colab": {
          "base_uri": "https://localhost:8080/"
        },
        "id": "sCinSDNTKrog",
        "outputId": "3db6535c-a8bd-4776-c566-67d4ff7ea327"
      },
      "execution_count": null,
      "outputs": [
        {
          "output_type": "stream",
          "name": "stdout",
          "text": [
            "sic    55\n",
            "eds    66\n",
            "dtype: int64\n"
          ]
        }
      ]
    },
    {
      "cell_type": "code",
      "source": [
        "import pandas as pd\n",
        "a=[10,70,20]\n",
        "myvar=pd.Series(a)\n",
        "print(myvar)"
      ],
      "metadata": {
        "colab": {
          "base_uri": "https://localhost:8080/"
        },
        "id": "niimAqnuK_9f",
        "outputId": "4d2888aa-8ba9-451d-9574-2fc7a1762516"
      },
      "execution_count": null,
      "outputs": [
        {
          "output_type": "stream",
          "name": "stdout",
          "text": [
            "0    10\n",
            "1    70\n",
            "2    20\n",
            "dtype: int64\n"
          ]
        }
      ]
    }
  ]
}